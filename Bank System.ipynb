{
 "cells": [
  {
   "cell_type": "code",
   "execution_count": 11,
   "id": "cf7eb797-3dc6-4af8-88bb-fc6c7953b06b",
   "metadata": {},
   "outputs": [],
   "source": [
    "class Bank_Account:\n",
    "    count = 0\n",
    "\n",
    "    def __init__(self):\n",
    "        self.users = {}\n",
    "        self.logged_user = None\n",
    "\n",
    "    def create_account(self, username, password):\n",
    "        while True:\n",
    "            if username in self.users:\n",
    "                print(\"Account creation failed: Username already exists.\")\n",
    "                return\n",
    "            else:\n",
    "                self.users[username] = {\"password\": password, \"balance\": 0.0}\n",
    "                print(\"Account successfully created.\")\n",
    "                break\n",
    "\n",
    "    def login(self, username, password):\n",
    "        while True:\n",
    "            if username not in self.users:\n",
    "                print(\"Login failed: Username does not exist.\")\n",
    "                return\n",
    "            if self.users[username][\"password\"] == password:\n",
    "                print(\"Login successful.\")\n",
    "                self.logged_user = username\n",
    "                break\n",
    "            else:\n",
    "                print(\"Login failed: Incorrect password.\")\n",
    "                return False\n",
    "\n",
    "    def logout(self):\n",
    "        if self.logged_user:\n",
    "            print(f\"User {self.logged_user} logged out.\")\n",
    "            self.logged_user = None\n",
    "        else:\n",
    "            print(\"No user is currently logged in.\")\n",
    "\n",
    "    def deposit(self):\n",
    "        if self.logged_user:\n",
    "                amount = float(input(\"Enter amount to deposit: \"))\n",
    "                if amount <= 0:\n",
    "                    print(\"Deposit amount must be positive.\")\n",
    "                elif amount >= 0:\n",
    "                    self.users[self.logged_user][\"balance\"] += amount\n",
    "                    print(f\"Deposit was successful. New balance: EGP{self.users[self.logged_user]['balance']:.2f}\")\n",
    "                else:\n",
    "                    print(\"Please make sure you entered a number.\")\n",
    "        else:\n",
    "            print(\"Deposit failed: No user is currently logged in.\")\n",
    "\n",
    "    def withdraw(self):\n",
    "        if self.logged_user:\n",
    "                amount = float(input(\"Enter amount to withdraw: \"))\n",
    "                if amount <= 0:\n",
    "                    print(\"Withdrawal amount must be positive.\")\n",
    "                elif self.users[self.logged_user][\"balance\"] >= amount:\n",
    "                    self.users[self.logged_user][\"balance\"] -= amount\n",
    "                    print(f\"Withdrawal successful. New balance: EGP{self.users[self.logged_user]['balance']:.2f}\")\n",
    "                elif self.users[self.logged_user][\"balance\"] <= amount:\n",
    "                    print(\"Withdrawal failed: Insufficient funds.\")\n",
    "                else:\n",
    "                    print(\"Invalid input. Please enter a valid number.\")\n",
    "        else:\n",
    "            print(\"Withdrawal failed: No user is currently logged in.\")\n",
    "\n",
    "    def check_balance(self):\n",
    "        if self.logged_user:\n",
    "            print(f\"Current balance: EGP{self.users[self.logged_user]['balance']:.2f}\")\n",
    "        else:\n",
    "            print(\"Check balance failed: No user is currently logged in.\")\n"
   ]
  },
  {
   "cell_type": "code",
   "execution_count": 16,
   "id": "35df8919-b2b8-4f13-aa09-810534a8c790",
   "metadata": {},
   "outputs": [
    {
     "name": "stdin",
     "output_type": "stream",
     "text": [
      "Welcome! Choose 1 to login, 2 to create an account, or 3 to exit:  2\n",
      "Username:  Yassin\n",
      "Password:  6666666\n"
     ]
    },
    {
     "name": "stdout",
     "output_type": "stream",
     "text": [
      "Account successfully created.\n"
     ]
    },
    {
     "name": "stdin",
     "output_type": "stream",
     "text": [
      "Welcome! Choose 1 to login, 2 to create an account, or 3 to exit:  1\n",
      "Username:  Yassin\n",
      "Password:  6666666\n"
     ]
    },
    {
     "name": "stdout",
     "output_type": "stream",
     "text": [
      "Login successful.\n"
     ]
    },
    {
     "name": "stdin",
     "output_type": "stream",
     "text": [
      "Choose 1 to deposit, 2 to withdraw, 3 to check balance, 4 to logout:  1\n",
      "Enter amount to deposit:  1256\n"
     ]
    },
    {
     "name": "stdout",
     "output_type": "stream",
     "text": [
      "Deposit was successful. New balance: EGP1256.00\n"
     ]
    },
    {
     "name": "stdin",
     "output_type": "stream",
     "text": [
      "Choose 1 to deposit, 2 to withdraw, 3 to check balance, 4 to logout:  4214\n"
     ]
    },
    {
     "name": "stdout",
     "output_type": "stream",
     "text": [
      "Invalid choice. Please try again.\n"
     ]
    },
    {
     "name": "stdin",
     "output_type": "stream",
     "text": [
      "Choose 1 to deposit, 2 to withdraw, 3 to check balance, 4 to logout:  1256\n"
     ]
    },
    {
     "name": "stdout",
     "output_type": "stream",
     "text": [
      "Invalid choice. Please try again.\n"
     ]
    },
    {
     "name": "stdin",
     "output_type": "stream",
     "text": [
      "Choose 1 to deposit, 2 to withdraw, 3 to check balance, 4 to logout:  2\n",
      "Enter amount to withdraw:  144447\n"
     ]
    },
    {
     "name": "stdout",
     "output_type": "stream",
     "text": [
      "Withdrawal failed: Insufficient funds.\n"
     ]
    },
    {
     "name": "stdin",
     "output_type": "stream",
     "text": [
      "Choose 1 to deposit, 2 to withdraw, 3 to check balance, 4 to logout:  2\n",
      "Enter amount to withdraw:  124\n"
     ]
    },
    {
     "name": "stdout",
     "output_type": "stream",
     "text": [
      "Withdrawal successful. New balance: EGP1132.00\n"
     ]
    },
    {
     "name": "stdin",
     "output_type": "stream",
     "text": [
      "Choose 1 to deposit, 2 to withdraw, 3 to check balance, 4 to logout:  3\n"
     ]
    },
    {
     "name": "stdout",
     "output_type": "stream",
     "text": [
      "Current balance: EGP1132.00\n"
     ]
    },
    {
     "name": "stdin",
     "output_type": "stream",
     "text": [
      "Choose 1 to deposit, 2 to withdraw, 3 to check balance, 4 to logout:  4\n"
     ]
    },
    {
     "name": "stdout",
     "output_type": "stream",
     "text": [
      "User Yassin logged out.\n"
     ]
    },
    {
     "name": "stdin",
     "output_type": "stream",
     "text": [
      "Welcome! Choose 1 to login, 2 to create an account, or 3 to exit:  3\n"
     ]
    },
    {
     "name": "stdout",
     "output_type": "stream",
     "text": [
      "Goodbye!\n"
     ]
    }
   ],
   "source": [
    "B1=Bank_Account()\n",
    "\n",
    "while True:\n",
    "    x = int(input(\"Welcome! Choose 1 to login, 2 to create an account, or 3 to exit: \"))\n",
    "    \n",
    "    if x == 1:\n",
    "        while True:\n",
    "            name = input(\"Username: \")\n",
    "            password = int(input(\"Password: \"))\n",
    "            if B1.login(name, password):\n",
    "                while True:\n",
    "                    action = int(input(\"Choose 1 to deposit, 2 to withdraw, 3 to check balance, 4 to logout: \"))\n",
    "                    if action == 1:\n",
    "                        B1.deposit()\n",
    "                    elif action == 2:\n",
    "                        B1.withdraw()\n",
    "                    elif action == 3:\n",
    "                        B1.check_balance()\n",
    "                    elif action == 4:\n",
    "                        B1.logout()\n",
    "                        break\n",
    "                    else:\n",
    "                        print(\"Invalid choice. Please try again.\")\n",
    "                break\n",
    "    elif x == 2:\n",
    "        name = input(\"Username: \")\n",
    "        password = int(input(\"Password: \"))\n",
    "        B1.create_account(name, password)\n",
    "    elif x == 3:\n",
    "        print(\"Goodbye!\")\n",
    "        break\n",
    "    else:\n",
    "        print(\"Invalid choice. Please try again.\")\n",
    "        "
   ]
  },
  {
   "cell_type": "code",
   "execution_count": null,
   "id": "7f757a35-6937-4948-922d-8dbe70e03be8",
   "metadata": {},
   "outputs": [],
   "source": []
  }
 ],
 "metadata": {
  "kernelspec": {
   "display_name": "Python 3 (ipykernel)",
   "language": "python",
   "name": "python3"
  },
  "language_info": {
   "codemirror_mode": {
    "name": "ipython",
    "version": 3
   },
   "file_extension": ".py",
   "mimetype": "text/x-python",
   "name": "python",
   "nbconvert_exporter": "python",
   "pygments_lexer": "ipython3",
   "version": "3.11.7"
  }
 },
 "nbformat": 4,
 "nbformat_minor": 5
}
